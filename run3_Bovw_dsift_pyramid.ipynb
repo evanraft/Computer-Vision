{
 "cells": [
  {
   "cell_type": "code",
   "execution_count": 13,
   "metadata": {},
   "outputs": [],
   "source": [
    "import cv2\n",
    "import numpy as np\n",
    "import matplotlib.pyplot as plt\n",
    "import glob\n",
    "from PIL import Image\n",
    "import copy\n",
    "from sklearn.cluster import KMeans\n",
    "from sklearn import preprocessing\n",
    "from sklearn.neighbors import KNeighborsClassifier\n",
    "from sklearn.svm import LinearSVC\n"
   ]
  },
  {
   "cell_type": "code",
   "execution_count": 47,
   "metadata": {},
   "outputs": [
    {
     "name": "stdout",
     "output_type": "stream",
     "text": [
      "{0: 'Forest', 1: 'bedroom', 2: 'Office', 3: 'Highway', 4: 'Coast', 5: 'Insidecity', 6: 'TallBuilding', 7: 'industrial', 8: 'Street', 9: 'livingroom', 10: 'Suburb', 11: 'Mountain', 12: 'kitchen', 13: 'OpenCountry', 14: 'store'}\n"
     ]
    }
   ],
   "source": [
    "cl_name=[name[17:] for name in glob.glob('../edit/training/*')]\n",
    "cl_name=dict(zip(range(0,len(cl_name)), cl_name))\n",
    "print (cl_name)\n",
    "\n",
    "#load the image from dataset\n",
    "def load_images(path, num_per_class=-1):\n",
    "    data = []\n",
    "    labels = []\n",
    "    for id, class_name in cl_name.items():\n",
    "        im_path = glob.glob(path + class_name + '/*.jpg')\n",
    "        if num_per_class > 0:\n",
    "            im_path = im_path[:num_per_class]\n",
    "        labels.extend([id]*len(im_path))\n",
    "        for filename in im_path:\n",
    "            data.append(cv2.imread(filename, 0))\n",
    "    return data, labels\n",
    "# compute dense SIFT \n",
    "def SIFT(data):\n",
    "    temp=[]\n",
    "    for i in range(0, len(data)):\n",
    "        sift=cv2.SIFT_create()\n",
    "        img=data[i]\n",
    "        kp=[cv2.KeyPoint(temp, y, 15) for temp in range(0, img.shape[0], 15) for y in range(0, img.shape[1], 15)]\n",
    "        dense_feat=sift.compute(img, kp)\n",
    "        temp.append(dense_feat[1])    \n",
    "    return temp\n",
    "\n",
    "# # build BoW presentation from SIFT of training images \n",
    "def vocabulary(all, k):\n",
    "    kmeans = KMeans(n_clusters=k,random_state=0).fit(all)\n",
    "    return kmeans\n",
    "\n",
    "\n",
    "# form training set histograms for each training image using BoW representation\n",
    "def Train_Hist(x_train, kmeans, k):\n",
    "    train_hist=[]\n",
    "    for i in range(len(x_train)):\n",
    "        data=copy.deepcopy(x_train[i])\n",
    "        predict=kmeans.predict(data)\n",
    "        train_hist.append(np.bincount(predict, minlength=k).reshape(1,-1).ravel())   \n",
    "    r=np.array(train_hist)\n",
    "    return r\n",
    "\n",
    "# train model\n",
    "def train(data, labels, k):\n",
    "    neighbors=KNeighborsClassifier(n_neighbors=k,p=2)\n",
    "    neighbors.fit(data,labels) \n",
    "    return neighbors\n",
    "\n",
    "# build histograms for test set and predict\n",
    "def predict(kmeans, scaler, x_test, train_hist, train_label, k):\n",
    "    test_hist = Train_Hist(x_test, kmeans, k)\n",
    "    test_hist = scaler.transform(test_hist)\n",
    "    knn = train(train_hist, train_label, k)\n",
    "    predict = knn.predict(test_hist)\n",
    "    return np.array([predict], dtype=np.array([test_label]).dtype)\n",
    "#model accuracy\n",
    "def accuracy(predict_label, test_label):\n",
    "    acc = np.mean(np.array(predict_label.tolist()[0]) == np.array(test_label))\n",
    "    return acc\n",
    "\n",
    "\n"
   ]
  },
  {
   "cell_type": "code",
   "execution_count": 48,
   "metadata": {},
   "outputs": [],
   "source": [
    "# load training dataset\n",
    "train_data, train_label = load_images('../edit/training/')\n",
    "train_num = len(train_label)\n",
    "\n",
    "# load testing dataset\n",
    "test_data, test_label = load_images('../edit/testing/')\n",
    "test_num = len(test_label)\n",
    "# extract dense sift features from training images\n",
    "\n",
    "\n",
    "x_train = SIFT(train_data)\n",
    "x_test = SIFT(test_data)\n",
    "train_all = []\n",
    "for i in range(len(x_train)):\n",
    "    for j in range(x_train[i].shape[0]):\n",
    "        train_all.append(x_train[i][j,:])\n",
    "\n",
    "train_all = np.array(train_all)"
   ]
  },
  {
   "cell_type": "code",
   "execution_count": 49,
   "metadata": {},
   "outputs": [
    {
     "name": "stdout",
     "output_type": "stream",
     "text": [
      "k = 80 , Accuracy: 55.55555555555556 %\n"
     ]
    }
   ],
   "source": [
    "k = [80]\n",
    "for i in range(len(k)):\n",
    "    kmeans = vocabulary(train_all, k[i])\n",
    "    train_hist = Train_Hist(x_train, kmeans, k[i])\n",
    "    scaler = preprocessing.StandardScaler().fit(train_hist)\n",
    "    train_hist = scaler.transform(train_hist)\n",
    "    predict = predict(kmeans, scaler, x_test, train_hist, train_label, k[i])\n",
    "    res = accuracy(predict, test_label)\n",
    "    print(\"k =\", k[i], \", Accuracy:\", res*100, \"%\")"
   ]
  },
  {
   "cell_type": "code",
   "execution_count": 27,
   "metadata": {},
   "outputs": [],
   "source": [
    "k = 80\n",
    "kmeans = KMeans(n_clusters=k,random_state=0).fit(train_all)\n",
    "# form training and testing histograms\n",
    "train_hist = Train_Hist(x_train, kmeans, k)\n",
    "test_hist = Train_Hist(x_test, kmeans, k)"
   ]
  },
  {
   "cell_type": "code",
   "execution_count": 28,
   "metadata": {},
   "outputs": [],
   "source": [
    "# normalize histograms\n",
    "scaler = preprocessing.StandardScaler().fit(train_hist)\n",
    "train_hist = scaler.transform(train_hist)\n",
    "test_hist = scaler.transform(test_hist)"
   ]
  },
  {
   "cell_type": "code",
   "execution_count": 29,
   "metadata": {},
   "outputs": [
    {
     "name": "stdout",
     "output_type": "stream",
     "text": [
      "C = 0.0001 ,\t Accuracy: 56.2962962962963 %\n",
      "C = 0.00208 ,\t Accuracy: 62.96296296296296 %\n",
      "C = 0.00406 ,\t Accuracy: 62.96296296296296 %\n",
      "C = 0.00604 ,\t Accuracy: 65.18518518518519 %\n",
      "C = 0.00802 ,\t Accuracy: 66.66666666666666 %\n",
      "C = 0.009999999999999998 ,\t Accuracy: 65.92592592592592 %\n",
      "C = 0.01198 ,\t Accuracy: 65.92592592592592 %\n",
      "C = 0.01396 ,\t Accuracy: 65.92592592592592 %\n",
      "C = 0.01594 ,\t Accuracy: 65.92592592592592 %\n",
      "C = 0.01792 ,\t Accuracy: 65.18518518518519 %\n",
      "C = 0.019899999999999998 ,\t Accuracy: 65.92592592592592 %\n",
      "C = 0.02188 ,\t Accuracy: 65.92592592592592 %\n",
      "C = 0.02386 ,\t Accuracy: 65.92592592592592 %\n",
      "C = 0.02584 ,\t Accuracy: 65.92592592592592 %\n",
      "C = 0.02782 ,\t Accuracy: 65.92592592592592 %\n",
      "C = 0.0298 ,\t Accuracy: 65.92592592592592 %\n",
      "C = 0.03178 ,\t Accuracy: 65.92592592592592 %\n",
      "C = 0.033760000000000005 ,\t Accuracy: 65.92592592592592 %\n",
      "C = 0.03574 ,\t Accuracy: 64.44444444444444 %\n",
      "C = 0.037720000000000004 ,\t Accuracy: 64.44444444444444 %\n",
      "C = 0.0397 ,\t Accuracy: 65.18518518518519 %\n",
      "C = 0.04168 ,\t Accuracy: 65.18518518518519 %\n",
      "C = 0.043660000000000004 ,\t Accuracy: 65.92592592592592 %\n",
      "C = 0.04564 ,\t Accuracy: 65.92592592592592 %\n",
      "C = 0.04762 ,\t Accuracy: 65.92592592592592 %\n",
      "C = 0.049600000000000005 ,\t Accuracy: 65.92592592592592 %\n",
      "C = 0.05158 ,\t Accuracy: 65.92592592592592 %\n",
      "C = 0.05356 ,\t Accuracy: 65.92592592592592 %\n",
      "C = 0.055540000000000006 ,\t Accuracy: 65.92592592592592 %\n",
      "C = 0.05752 ,\t Accuracy: 65.92592592592592 %\n",
      "C = 0.059500000000000004 ,\t Accuracy: 65.92592592592592 %\n",
      "C = 0.06148 ,\t Accuracy: 66.66666666666666 %\n",
      "C = 0.06346 ,\t Accuracy: 66.66666666666666 %\n",
      "C = 0.06544 ,\t Accuracy: 66.66666666666666 %\n",
      "C = 0.06742000000000001 ,\t Accuracy: 66.66666666666666 %\n",
      "C = 0.0694 ,\t Accuracy: 66.66666666666666 %\n",
      "C = 0.07138 ,\t Accuracy: 66.66666666666666 %\n",
      "C = 0.07336000000000001 ,\t Accuracy: 66.66666666666666 %\n",
      "C = 0.07534 ,\t Accuracy: 66.66666666666666 %\n",
      "C = 0.07732 ,\t Accuracy: 66.66666666666666 %\n",
      "C = 0.0793 ,\t Accuracy: 66.66666666666666 %\n",
      "C = 0.08128 ,\t Accuracy: 66.66666666666666 %\n",
      "C = 0.08326 ,\t Accuracy: 65.92592592592592 %\n",
      "C = 0.08524 ,\t Accuracy: 65.92592592592592 %\n",
      "C = 0.08722 ,\t Accuracy: 65.92592592592592 %\n",
      "C = 0.0892 ,\t Accuracy: 65.92592592592592 %\n",
      "C = 0.09118 ,\t Accuracy: 65.92592592592592 %\n",
      "C = 0.09316 ,\t Accuracy: 65.92592592592592 %\n",
      "C = 0.09514 ,\t Accuracy: 65.18518518518519 %\n",
      "C = 0.09712 ,\t Accuracy: 65.18518518518519 %\n",
      "C = 0.09910000000000001 ,\t Accuracy: 65.18518518518519 %\n"
     ]
    }
   ],
   "source": [
    "for c in np.arange(0.0001, 0.1, 0.00198):\n",
    "    clf = LinearSVC(random_state=0, C=c)\n",
    "    clf.fit(train_hist, train_label)\n",
    "    predict = clf.predict(test_hist)\n",
    "    print (\"C =\", c, \",\\t Accuracy:\", np.mean(predict == test_label)*100, \"%\")\n",
    "    #print (\"Accuracy:\", np.mean(predict == test_label)*100, \"%\")"
   ]
  },
  {
   "cell_type": "code",
   "execution_count": 30,
   "metadata": {},
   "outputs": [
    {
     "ename": "ValueError",
     "evalue": "The number of FixedLocator locations (15), usually from a call to set_ticks, does not match the number of ticklabels (2).",
     "output_type": "error",
     "traceback": [
      "\u001b[0;31m---------------------------------------------------------------------------\u001b[0m",
      "\u001b[0;31mValueError\u001b[0m                                Traceback (most recent call last)",
      "\u001b[0;32m<ipython-input-30-4bfe1ac05b77>\u001b[0m in \u001b[0;36m<module>\u001b[0;34m\u001b[0m\n\u001b[1;32m     10\u001b[0m \u001b[0;34m\u001b[0m\u001b[0m\n\u001b[1;32m     11\u001b[0m \u001b[0;31m## Ticket labels - List must be in alphabetical order\u001b[0m\u001b[0;34m\u001b[0m\u001b[0;34m\u001b[0m\u001b[0;34m\u001b[0m\u001b[0m\n\u001b[0;32m---> 12\u001b[0;31m \u001b[0max\u001b[0m\u001b[0;34m.\u001b[0m\u001b[0mxaxis\u001b[0m\u001b[0;34m.\u001b[0m\u001b[0mset_ticklabels\u001b[0m\u001b[0;34m(\u001b[0m\u001b[0;34m[\u001b[0m\u001b[0;34m'False'\u001b[0m\u001b[0;34m,\u001b[0m\u001b[0;34m'True'\u001b[0m\u001b[0;34m]\u001b[0m\u001b[0;34m)\u001b[0m\u001b[0;34m\u001b[0m\u001b[0;34m\u001b[0m\u001b[0m\n\u001b[0m\u001b[1;32m     13\u001b[0m \u001b[0max\u001b[0m\u001b[0;34m.\u001b[0m\u001b[0myaxis\u001b[0m\u001b[0;34m.\u001b[0m\u001b[0mset_ticklabels\u001b[0m\u001b[0;34m(\u001b[0m\u001b[0;34m[\u001b[0m\u001b[0;34m'False'\u001b[0m\u001b[0;34m,\u001b[0m\u001b[0;34m'True'\u001b[0m\u001b[0;34m]\u001b[0m\u001b[0;34m)\u001b[0m\u001b[0;34m\u001b[0m\u001b[0;34m\u001b[0m\u001b[0m\n\u001b[1;32m     14\u001b[0m \u001b[0;34m\u001b[0m\u001b[0m\n",
      "\u001b[0;32m~/opt/anaconda3/lib/python3.8/site-packages/matplotlib/axis.py\u001b[0m in \u001b[0;36mset_ticklabels\u001b[0;34m(self, ticklabels, minor, **kwargs)\u001b[0m\n\u001b[1;32m   1715\u001b[0m             \u001b[0;31m# remove all tick labels, so only error for > 0 ticklabels\u001b[0m\u001b[0;34m\u001b[0m\u001b[0;34m\u001b[0m\u001b[0;34m\u001b[0m\u001b[0m\n\u001b[1;32m   1716\u001b[0m             \u001b[0;32mif\u001b[0m \u001b[0mlen\u001b[0m\u001b[0;34m(\u001b[0m\u001b[0mlocator\u001b[0m\u001b[0;34m.\u001b[0m\u001b[0mlocs\u001b[0m\u001b[0;34m)\u001b[0m \u001b[0;34m!=\u001b[0m \u001b[0mlen\u001b[0m\u001b[0;34m(\u001b[0m\u001b[0mticklabels\u001b[0m\u001b[0;34m)\u001b[0m \u001b[0;32mand\u001b[0m \u001b[0mlen\u001b[0m\u001b[0;34m(\u001b[0m\u001b[0mticklabels\u001b[0m\u001b[0;34m)\u001b[0m \u001b[0;34m!=\u001b[0m \u001b[0;36m0\u001b[0m\u001b[0;34m:\u001b[0m\u001b[0;34m\u001b[0m\u001b[0;34m\u001b[0m\u001b[0m\n\u001b[0;32m-> 1717\u001b[0;31m                 raise ValueError(\n\u001b[0m\u001b[1;32m   1718\u001b[0m                     \u001b[0;34m\"The number of FixedLocator locations\"\u001b[0m\u001b[0;34m\u001b[0m\u001b[0;34m\u001b[0m\u001b[0m\n\u001b[1;32m   1719\u001b[0m                     \u001b[0;34mf\" ({len(locator.locs)}), usually from a call to\"\u001b[0m\u001b[0;34m\u001b[0m\u001b[0;34m\u001b[0m\u001b[0m\n",
      "\u001b[0;31mValueError\u001b[0m: The number of FixedLocator locations (15), usually from a call to set_ticks, does not match the number of ticklabels (2)."
     ]
    },
    {
     "data": {
      "image/png": "[encoded data removed]",
      "text/plain": [
       "<Figure size 432x288 with 2 Axes>"
      ]
     },
     "metadata": {
      "needs_background": "light"
     },
     "output_type": "display_data"
    }
   ],
   "source": [
    "from sklearn.metrics import confusion_matrix\n",
    "cf_matrix=confusion_matrix(predict, test_label)\n",
    "import seaborn as sns\n",
    "ax = sns.heatmap(cf_matrix, annot=True, cmap='Blues')\n",
    "ax.set_title('Seaborn Confusion Matrix with labels\\n\\n')\n",
    "ax.set_xlabel('\\nPredicted Values')\n",
    "ax.set_ylabel('Actual Values ')\n",
    "ax.xaxis.set_ticklabels(['False','True'])\n",
    "ax.yaxis.set_ticklabels(['False','True'])\n",
    "plt.show()"
   ]
  },
  {
   "cell_type": "markdown",
   "metadata": {},
   "source": [
    "###  Spatial Pyramid Matching"
   ]
  },
  {
   "cell_type": "code",
   "execution_count": 94,
   "metadata": {},
   "outputs": [],
   "source": [
    "import math\n",
    "\n",
    "def extract_denseSIFT(img):\n",
    "    DSIFT_STEP_SIZE = 2\n",
    "    sift = cv2.SIFT_create()\n",
    "    disft_step_size = DSIFT_STEP_SIZE\n",
    "    keypoints = [cv2.KeyPoint(x, y, disft_step_size)\n",
    "            for y in range(0, img.shape[0], disft_step_size)\n",
    "                for x in range(0, img.shape[1], disft_step_size)]\n",
    "    descriptors = sift.compute(img, keypoints)[1]\n",
    "    return descriptors\n",
    "\n",
    "def getImageFeaturesSPM(L, img, kmeans, k):\n",
    "    W = img.shape[1]\n",
    "    H = img.shape[0]   \n",
    "    h = []\n",
    "    for l in range(L+1):\n",
    "        w_step = math.floor(W/(2**l))\n",
    "        h_step = math.floor(H/(2**l))\n",
    "        x, y = 0, 0\n",
    "        for i in range(1,2**l + 1):\n",
    "            x = 0\n",
    "            for j in range(1, 2**l + 1):                \n",
    "                desc = extract_denseSIFT(img[y:y+h_step, x:x+w_step])                \n",
    "                predict = kmeans.predict(desc)\n",
    "                histo = np.bincount(predict, minlength=k).reshape(1,-1).ravel()\n",
    "                weight = 2**(l-L)\n",
    "                h.append(weight*histo)\n",
    "                x = x + w_step\n",
    "            y = y + h_step  \n",
    "    hist = np.array(h).ravel()\n",
    "    dev = np.std(hist)\n",
    "    hist -= np.mean(hist)\n",
    "    hist /= dev\n",
    "    return hist\n",
    "# get histogram representation for training/testing data\n",
    "def getHistogramSPM(L, data, kmeans, k):    \n",
    "    x = []\n",
    "    for i in range(len(data)):        \n",
    "        hist = getImageFeaturesSPM(L, data[i], kmeans, k)        \n",
    "        x.append(hist)\n",
    "    return np.array(x)"
   ]
  },
  {
   "cell_type": "code",
   "execution_count": 98,
   "metadata": {},
   "outputs": [],
   "source": [
    "k = 200\n",
    "kmeans = KMeans(n_clusters=k,random_state=0).fit(train_all)"
   ]
  },
  {
   "cell_type": "code",
   "execution_count": 99,
   "metadata": {},
   "outputs": [],
   "source": [
    "train_histo = getHistogramSPM(2, train_data, kmeans, k)\n",
    "test_histo = getHistogramSPM(2, test_data, kmeans, k)"
   ]
  },
  {
   "cell_type": "code",
   "execution_count": 100,
   "metadata": {},
   "outputs": [
    {
     "name": "stdout",
     "output_type": "stream",
     "text": [
      "C = 0.000307 ,\t\t Accuracy: 66.66666666666666 %\n",
      "C = 0.00035319999999999997 ,\t\t Accuracy: 66.66666666666666 %\n",
      "C = 0.00039939999999999995 ,\t\t Accuracy: 66.66666666666666 %\n",
      "C = 0.00044559999999999993 ,\t\t Accuracy: 66.66666666666666 %\n",
      "C = 0.0004917999999999999 ,\t\t Accuracy: 66.66666666666666 %\n",
      "C = 0.0005379999999999998 ,\t\t Accuracy: 66.66666666666666 %\n",
      "C = 0.0005841999999999999 ,\t\t Accuracy: 66.66666666666666 %\n",
      "C = 0.0006303999999999999 ,\t\t Accuracy: 66.66666666666666 %\n",
      "C = 0.0006765999999999999 ,\t\t Accuracy: 66.66666666666666 %\n",
      "C = 0.0007227999999999998 ,\t\t Accuracy: 66.66666666666666 %\n",
      "C = 0.0007689999999999998 ,\t\t Accuracy: 66.66666666666666 %\n",
      "C = 0.0008151999999999999 ,\t\t Accuracy: 66.66666666666666 %\n",
      "C = 0.0008613999999999998 ,\t\t Accuracy: 66.66666666666666 %\n",
      "C = 0.0009075999999999997 ,\t\t Accuracy: 66.66666666666666 %\n",
      "C = 0.0009537999999999998 ,\t\t Accuracy: 66.66666666666666 %\n",
      "C = 0.0009999999999999998 ,\t\t Accuracy: 66.66666666666666 %\n"
     ]
    }
   ],
   "source": [
    "# train SVM\n",
    "for c in np.arange(0.000307, 0.001, 0.0000462):\n",
    "    clf1 = LinearSVC(random_state=0, C=0.0008151999999999999)\n",
    "    clf1.fit(train_histo, train_label)\n",
    "    predict1 = clf1.predict(test_histo)\n",
    "    print (\"C =\", c, \",\\t\\t Accuracy:\", np.mean(predict1 == test_label)*100, \"%\")"
   ]
  },
  {
   "cell_type": "code",
   "execution_count": 101,
   "metadata": {},
   "outputs": [
    {
     "ename": "ValueError",
     "evalue": "The number of FixedLocator locations (15), usually from a call to set_ticks, does not match the number of ticklabels (2).",
     "output_type": "error",
     "traceback": [
      "\u001b[0;31m---------------------------------------------------------------------------\u001b[0m",
      "\u001b[0;31mValueError\u001b[0m                                Traceback (most recent call last)",
      "\u001b[0;32m<ipython-input-101-ec1ccc61a1f3>\u001b[0m in \u001b[0;36m<module>\u001b[0;34m\u001b[0m\n\u001b[1;32m     10\u001b[0m \u001b[0;34m\u001b[0m\u001b[0m\n\u001b[1;32m     11\u001b[0m \u001b[0;31m## Ticket labels - List must be in alphabetical order\u001b[0m\u001b[0;34m\u001b[0m\u001b[0;34m\u001b[0m\u001b[0;34m\u001b[0m\u001b[0m\n\u001b[0;32m---> 12\u001b[0;31m \u001b[0max\u001b[0m\u001b[0;34m.\u001b[0m\u001b[0mxaxis\u001b[0m\u001b[0;34m.\u001b[0m\u001b[0mset_ticklabels\u001b[0m\u001b[0;34m(\u001b[0m\u001b[0;34m[\u001b[0m\u001b[0;34m'False'\u001b[0m\u001b[0;34m,\u001b[0m\u001b[0;34m'True'\u001b[0m\u001b[0;34m]\u001b[0m\u001b[0;34m)\u001b[0m\u001b[0;34m\u001b[0m\u001b[0;34m\u001b[0m\u001b[0m\n\u001b[0m\u001b[1;32m     13\u001b[0m \u001b[0max\u001b[0m\u001b[0;34m.\u001b[0m\u001b[0myaxis\u001b[0m\u001b[0;34m.\u001b[0m\u001b[0mset_ticklabels\u001b[0m\u001b[0;34m(\u001b[0m\u001b[0;34m[\u001b[0m\u001b[0;34m'False'\u001b[0m\u001b[0;34m,\u001b[0m\u001b[0;34m'True'\u001b[0m\u001b[0;34m]\u001b[0m\u001b[0;34m)\u001b[0m\u001b[0;34m\u001b[0m\u001b[0;34m\u001b[0m\u001b[0m\n\u001b[1;32m     14\u001b[0m \u001b[0;34m\u001b[0m\u001b[0m\n",
      "\u001b[0;32m~/opt/anaconda3/lib/python3.8/site-packages/matplotlib/axis.py\u001b[0m in \u001b[0;36mset_ticklabels\u001b[0;34m(self, ticklabels, minor, **kwargs)\u001b[0m\n\u001b[1;32m   1715\u001b[0m             \u001b[0;31m# remove all tick labels, so only error for > 0 ticklabels\u001b[0m\u001b[0;34m\u001b[0m\u001b[0;34m\u001b[0m\u001b[0;34m\u001b[0m\u001b[0m\n\u001b[1;32m   1716\u001b[0m             \u001b[0;32mif\u001b[0m \u001b[0mlen\u001b[0m\u001b[0;34m(\u001b[0m\u001b[0mlocator\u001b[0m\u001b[0;34m.\u001b[0m\u001b[0mlocs\u001b[0m\u001b[0;34m)\u001b[0m \u001b[0;34m!=\u001b[0m \u001b[0mlen\u001b[0m\u001b[0;34m(\u001b[0m\u001b[0mticklabels\u001b[0m\u001b[0;34m)\u001b[0m \u001b[0;32mand\u001b[0m \u001b[0mlen\u001b[0m\u001b[0;34m(\u001b[0m\u001b[0mticklabels\u001b[0m\u001b[0;34m)\u001b[0m \u001b[0;34m!=\u001b[0m \u001b[0;36m0\u001b[0m\u001b[0;34m:\u001b[0m\u001b[0;34m\u001b[0m\u001b[0;34m\u001b[0m\u001b[0m\n\u001b[0;32m-> 1717\u001b[0;31m                 raise ValueError(\n\u001b[0m\u001b[1;32m   1718\u001b[0m                     \u001b[0;34m\"The number of FixedLocator locations\"\u001b[0m\u001b[0;34m\u001b[0m\u001b[0;34m\u001b[0m\u001b[0m\n\u001b[1;32m   1719\u001b[0m                     \u001b[0;34mf\" ({len(locator.locs)}), usually from a call to\"\u001b[0m\u001b[0;34m\u001b[0m\u001b[0;34m\u001b[0m\u001b[0m\n",
      "\u001b[0;31mValueError\u001b[0m: The number of FixedLocator locations (15), usually from a call to set_ticks, does not match the number of ticklabels (2)."
     ]
    },
    {
     "data": {
      "image/png": "[encoded data removed]",
      "text/plain": [
       "<Figure size 432x288 with 2 Axes>"
      ]
     },
     "metadata": {
      "needs_background": "light"
     },
     "output_type": "display_data"
    }
   ],
   "source": [
    "from sklearn.metrics import confusion_matrix\n",
    "cf_matrix=confusion_matrix(predict1, test_label)\n",
    "import seaborn as sns\n",
    "ax = sns.heatmap(cf_matrix, annot=True, cmap='Blues')\n",
    "ax.set_title('Seaborn Confusion Matrix with labels\\n\\n')\n",
    "ax.set_xlabel('\\nPredicted Values')\n",
    "ax.set_ylabel('Actual Values ')\n",
    "ax.xaxis.set_ticklabels(['False','True'])\n",
    "ax.yaxis.set_ticklabels(['False','True'])\n",
    "plt.show()"
   ]
  }
 ],
 "metadata": {
  "interpreter": {
   "hash": "f13985d92a2907256761e3c6bf71e6965743fcdedee868dfcedfd74f00e44f96"
  },
  "kernelspec": {
   "display_name": "Python 3",
   "language": "python",
   "name": "python3"
  },
  "language_info": {
   "codemirror_mode": {
    "name": "ipython",
    "version": 3
   },
   "file_extension": ".py",
   "mimetype": "text/x-python",
   "name": "python",
   "nbconvert_exporter": "python",
   "pygments_lexer": "ipython3",
   "version": "3.8.8"
  }
 },
 "nbformat": 4,
 "nbformat_minor": 2
}
